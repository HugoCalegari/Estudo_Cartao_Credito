{
 "cells": [
  {
   "cell_type": "markdown",
   "metadata": {},
   "source": [
    "# Pacotes"
   ]
  },
  {
   "cell_type": "code",
   "execution_count": 1,
   "metadata": {},
   "outputs": [
    {
     "name": "stderr",
     "output_type": "stream",
     "text": [
      "/home/hugo/Documents/Git_GitHub/Estudo_Cartao_Credito/vCartao_Credito/lib/python3.12/site-packages/tqdm/auto.py:21: TqdmWarning: IProgress not found. Please update jupyter and ipywidgets. See https://ipywidgets.readthedocs.io/en/stable/user_install.html\n",
      "  from .autonotebook import tqdm as notebook_tqdm\n"
     ]
    }
   ],
   "source": [
    "from deltalake import DeltaTable, write_deltalake\n",
    "import mlflow\n",
    "from mlflow.models import infer_signature\n",
    "import matplotlib.pyplot as plt\n",
    "import os\n",
    "import pandas as pd\n",
    "import numpy as np\n",
    "import shap\n",
    "import Funcoes\n",
    "from sklearn.ensemble import RandomForestClassifier\n",
    "from sklearn.metrics import f1_score, roc_auc_score, precision_score, recall_score, accuracy_score, average_precision_score, brier_score_loss, confusion_matrix, classification_report, ConfusionMatrixDisplay, precision_recall_curve\n",
    "import xgboost as xgb"
   ]
  },
  {
   "cell_type": "markdown",
   "metadata": {},
   "source": [
    "# Objetivo\n",
    "\n",
    "Primeiro, algumas variáveis serão descartadas pelo acúmulo de importância (~90%) e pelo valor de IV.\n",
    "\n",
    "Segundo, com o uso da validação cruzada: será avaliado o comportamento médio de algumas métricas calculadas nos modelos baselines como a curva sobre a curva precision e recall (AUCPR) e Brier Score (BS); foi visto que a identificação de um melhor ponto de corte pode melhorar a métrica F1-score. Dessa forma, será calculado qual o melhor ponto de corte médio.\n",
    "\n",
    "Terceiro, será escolhido qual o melhor conjunto de hiperparâmetros para os modelos Random Forest e XGBoost."
   ]
  },
  {
   "cell_type": "markdown",
   "metadata": {},
   "source": [
    "# Leitura da base v1 e filtro de variáveis\n",
    "\n",
    "Variáveis com valor acumulado de importância em 90% e pelo valor de IV."
   ]
  },
  {
   "cell_type": "code",
   "execution_count": 6,
   "metadata": {},
   "outputs": [
    {
     "data": {
      "text/html": [
       "<div>\n",
       "<style scoped>\n",
       "    .dataframe tbody tr th:only-of-type {\n",
       "        vertical-align: middle;\n",
       "    }\n",
       "\n",
       "    .dataframe tbody tr th {\n",
       "        vertical-align: top;\n",
       "    }\n",
       "\n",
       "    .dataframe thead th {\n",
       "        text-align: right;\n",
       "    }\n",
       "</style>\n",
       "<table border=\"1\" class=\"dataframe\">\n",
       "  <thead>\n",
       "    <tr style=\"text-align: right;\">\n",
       "      <th></th>\n",
       "      <th>Customer_Age</th>\n",
       "      <th>Total_Relationship_Count</th>\n",
       "      <th>Months_Inactive_12_mon</th>\n",
       "      <th>Contacts_Count_12_mon</th>\n",
       "      <th>Total_Revolving_Bal</th>\n",
       "      <th>Total_Amt_Chng_Q4_Q1</th>\n",
       "      <th>Total_Ct_Chng_Q4_Q1</th>\n",
       "      <th>vfm</th>\n",
       "      <th>pmcc</th>\n",
       "      <th>Income_Category_1.&lt; 40k</th>\n",
       "      <th>Income_Category_2. &gt;= 40k &amp; &lt; 60k</th>\n",
       "      <th>Income_Category_3. &gt;= 60k &amp; &lt; 80k</th>\n",
       "      <th>Income_Category_4. &gt;= 80k &amp; &lt; 120k</th>\n",
       "      <th>Income_Category_5. &gt;= 120k</th>\n",
       "      <th>Education_Level_v2_1.Uneducated</th>\n",
       "      <th>Education_Level_v2_2.High School</th>\n",
       "      <th>Education_Level_v2_3.Graduate</th>\n",
       "      <th>Education_Level_v2_4.Post-Graduate</th>\n",
       "      <th>Attrition_Flag</th>\n",
       "      <th>type</th>\n",
       "    </tr>\n",
       "  </thead>\n",
       "  <tbody>\n",
       "    <tr>\n",
       "      <th>0</th>\n",
       "      <td>-0.784196</td>\n",
       "      <td>1.403132</td>\n",
       "      <td>-1.337898</td>\n",
       "      <td>0.498943</td>\n",
       "      <td>0.963894</td>\n",
       "      <td>0.282975</td>\n",
       "      <td>-0.328225</td>\n",
       "      <td>-0.175537</td>\n",
       "      <td>-0.421450</td>\n",
       "      <td>1</td>\n",
       "      <td>0</td>\n",
       "      <td>0</td>\n",
       "      <td>0</td>\n",
       "      <td>0</td>\n",
       "      <td>0</td>\n",
       "      <td>0</td>\n",
       "      <td>1</td>\n",
       "      <td>0</td>\n",
       "      <td>0</td>\n",
       "      <td>Treino</td>\n",
       "    </tr>\n",
       "    <tr>\n",
       "      <th>1</th>\n",
       "      <td>0.720070</td>\n",
       "      <td>-0.525933</td>\n",
       "      <td>0.641818</td>\n",
       "      <td>1.408428</td>\n",
       "      <td>-0.165769</td>\n",
       "      <td>-1.527806</td>\n",
       "      <td>-0.194304</td>\n",
       "      <td>-0.208685</td>\n",
       "      <td>-1.054789</td>\n",
       "      <td>0</td>\n",
       "      <td>0</td>\n",
       "      <td>0</td>\n",
       "      <td>1</td>\n",
       "      <td>0</td>\n",
       "      <td>0</td>\n",
       "      <td>0</td>\n",
       "      <td>1</td>\n",
       "      <td>0</td>\n",
       "      <td>0</td>\n",
       "      <td>Treino</td>\n",
       "    </tr>\n",
       "    <tr>\n",
       "      <th>2</th>\n",
       "      <td>1.346848</td>\n",
       "      <td>-0.525933</td>\n",
       "      <td>-0.348040</td>\n",
       "      <td>0.498943</td>\n",
       "      <td>0.864865</td>\n",
       "      <td>0.894171</td>\n",
       "      <td>0.056797</td>\n",
       "      <td>-0.571459</td>\n",
       "      <td>-0.686436</td>\n",
       "      <td>0</td>\n",
       "      <td>0</td>\n",
       "      <td>0</td>\n",
       "      <td>1</td>\n",
       "      <td>0</td>\n",
       "      <td>0</td>\n",
       "      <td>0</td>\n",
       "      <td>0</td>\n",
       "      <td>1</td>\n",
       "      <td>0</td>\n",
       "      <td>Treino</td>\n",
       "    </tr>\n",
       "    <tr>\n",
       "      <th>3</th>\n",
       "      <td>0.218648</td>\n",
       "      <td>-0.525933</td>\n",
       "      <td>0.641818</td>\n",
       "      <td>-1.320028</td>\n",
       "      <td>-0.412731</td>\n",
       "      <td>0.369637</td>\n",
       "      <td>0.851953</td>\n",
       "      <td>0.252749</td>\n",
       "      <td>2.406712</td>\n",
       "      <td>1</td>\n",
       "      <td>0</td>\n",
       "      <td>0</td>\n",
       "      <td>0</td>\n",
       "      <td>0</td>\n",
       "      <td>0</td>\n",
       "      <td>0</td>\n",
       "      <td>1</td>\n",
       "      <td>0</td>\n",
       "      <td>0</td>\n",
       "      <td>Treino</td>\n",
       "    </tr>\n",
       "    <tr>\n",
       "      <th>4</th>\n",
       "      <td>-2.539173</td>\n",
       "      <td>0.117089</td>\n",
       "      <td>1.631675</td>\n",
       "      <td>1.408428</td>\n",
       "      <td>-0.858972</td>\n",
       "      <td>0.346832</td>\n",
       "      <td>-1.144306</td>\n",
       "      <td>-0.064053</td>\n",
       "      <td>-0.071911</td>\n",
       "      <td>1</td>\n",
       "      <td>0</td>\n",
       "      <td>0</td>\n",
       "      <td>0</td>\n",
       "      <td>0</td>\n",
       "      <td>1</td>\n",
       "      <td>0</td>\n",
       "      <td>0</td>\n",
       "      <td>0</td>\n",
       "      <td>0</td>\n",
       "      <td>Treino</td>\n",
       "    </tr>\n",
       "  </tbody>\n",
       "</table>\n",
       "</div>"
      ],
      "text/plain": [
       "   Customer_Age  Total_Relationship_Count  Months_Inactive_12_mon  \\\n",
       "0     -0.784196                  1.403132               -1.337898   \n",
       "1      0.720070                 -0.525933                0.641818   \n",
       "2      1.346848                 -0.525933               -0.348040   \n",
       "3      0.218648                 -0.525933                0.641818   \n",
       "4     -2.539173                  0.117089                1.631675   \n",
       "\n",
       "   Contacts_Count_12_mon  Total_Revolving_Bal  Total_Amt_Chng_Q4_Q1  \\\n",
       "0               0.498943             0.963894              0.282975   \n",
       "1               1.408428            -0.165769             -1.527806   \n",
       "2               0.498943             0.864865              0.894171   \n",
       "3              -1.320028            -0.412731              0.369637   \n",
       "4               1.408428            -0.858972              0.346832   \n",
       "\n",
       "   Total_Ct_Chng_Q4_Q1       vfm      pmcc  Income_Category_1.< 40k  \\\n",
       "0            -0.328225 -0.175537 -0.421450                        1   \n",
       "1            -0.194304 -0.208685 -1.054789                        0   \n",
       "2             0.056797 -0.571459 -0.686436                        0   \n",
       "3             0.851953  0.252749  2.406712                        1   \n",
       "4            -1.144306 -0.064053 -0.071911                        1   \n",
       "\n",
       "   Income_Category_2. >= 40k & < 60k  Income_Category_3. >= 60k & < 80k  \\\n",
       "0                                  0                                  0   \n",
       "1                                  0                                  0   \n",
       "2                                  0                                  0   \n",
       "3                                  0                                  0   \n",
       "4                                  0                                  0   \n",
       "\n",
       "   Income_Category_4. >= 80k & < 120k  Income_Category_5. >= 120k  \\\n",
       "0                                   0                           0   \n",
       "1                                   1                           0   \n",
       "2                                   1                           0   \n",
       "3                                   0                           0   \n",
       "4                                   0                           0   \n",
       "\n",
       "   Education_Level_v2_1.Uneducated  Education_Level_v2_2.High School  \\\n",
       "0                                0                                 0   \n",
       "1                                0                                 0   \n",
       "2                                0                                 0   \n",
       "3                                0                                 0   \n",
       "4                                1                                 0   \n",
       "\n",
       "   Education_Level_v2_3.Graduate  Education_Level_v2_4.Post-Graduate  \\\n",
       "0                              1                                   0   \n",
       "1                              1                                   0   \n",
       "2                              0                                   1   \n",
       "3                              1                                   0   \n",
       "4                              0                                   0   \n",
       "\n",
       "   Attrition_Flag    type  \n",
       "0               0  Treino  \n",
       "1               0  Treino  \n",
       "2               0  Treino  \n",
       "3               0  Treino  \n",
       "4               0  Treino  "
      ]
     },
     "execution_count": 6,
     "metadata": {},
     "output_type": "execute_result"
    }
   ],
   "source": [
    "# A chance de ser ou não churn não depende do sexo ser M ou F. Mas, ela pode ser uma proxy para comportamentos socioeconômicos como diferença de renda, ocupação em \n",
    "# atividades não remuneradas (múltiplas jornadas de trabalho) etc\n",
    "\n",
    "# Estado civil e número de dependentes podem ser interpretados de forma semelhante. Ambas podem direcionar para um maior compromisso com a estabilidade financeira,\n",
    "# pessoas com mais idade e, possivelmente, com principalidade de uso do cartão já definida.\n",
    "\n",
    "dados = DeltaTable(\"../1.Variaveis/tmp/dados_pp_v1\").to_pandas()\n",
    "dados.drop(['__index_level_0__', 'Card_Category_Gold', 'Card_Category_Platinum', 'Card_Category_Silver', \n",
    "            'Marital_Status_Married', 'Marital_Status_Single', 'Marital_Status_Unknown', 'Gender_M',\n",
    "            'Dependent_count'], axis=1, inplace=True)\n",
    "dados.head()"
   ]
  },
  {
   "cell_type": "code",
   "execution_count": 7,
   "metadata": {},
   "outputs": [
    {
     "data": {
      "text/plain": [
       "np.int64(0)"
      ]
     },
     "execution_count": 7,
     "metadata": {},
     "output_type": "execute_result"
    }
   ],
   "source": [
    "dados.duplicated().sum()"
   ]
  },
  {
   "cell_type": "code",
   "execution_count": 8,
   "metadata": {},
   "outputs": [
    {
     "data": {
      "text/plain": [
       "(10127, 20)"
      ]
     },
     "execution_count": 8,
     "metadata": {},
     "output_type": "execute_result"
    }
   ],
   "source": [
    "dados.shape"
   ]
  },
  {
   "cell_type": "markdown",
   "metadata": {},
   "source": [
    "# Separação das bases"
   ]
  },
  {
   "cell_type": "code",
   "execution_count": null,
   "metadata": {},
   "outputs": [],
   "source": [
    "dados_treino = dados[dados.type == 'Treino'].drop(['type'], axis=1)\n",
    "dados_val = dados[dados.type == 'Validacao'].drop(['type'], axis=1)\n",
    "dados_teste = dados[dados.type == 'Teste'].drop(['type'], axis=1)"
   ]
  },
  {
   "cell_type": "code",
   "execution_count": null,
   "metadata": {},
   "outputs": [],
   "source": [
    "X_treino = dados_treino.drop(['Attrition_Flag'], axis=1)\n",
    "y_treino = dados_treino['Attrition_Flag']\n",
    "\n",
    "X_val = dados_val.drop(['Attrition_Flag'], axis=1)\n",
    "y_val = dados_val['Attrition_Flag']"
   ]
  },
  {
   "cell_type": "markdown",
   "metadata": {},
   "source": [
    "https://scikit-learn.org/1.5/modules/cross_validation.html"
   ]
  }
 ],
 "metadata": {
  "kernelspec": {
   "display_name": "vCartao_Credito",
   "language": "python",
   "name": "python3"
  },
  "language_info": {
   "codemirror_mode": {
    "name": "ipython",
    "version": 3
   },
   "file_extension": ".py",
   "mimetype": "text/x-python",
   "name": "python",
   "nbconvert_exporter": "python",
   "pygments_lexer": "ipython3",
   "version": "3.12.3"
  }
 },
 "nbformat": 4,
 "nbformat_minor": 2
}
