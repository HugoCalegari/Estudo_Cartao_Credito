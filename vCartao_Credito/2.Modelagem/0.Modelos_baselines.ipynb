{
 "cells": [
  {
   "cell_type": "markdown",
   "metadata": {},
   "source": [
    "# Objetivo\n",
    "\n",
    "Identificar a melhor relação entre as variáveis explicativas e a resposta. A priori, tem-se interesse em atingir todos os clientes classificados como churn, como descrito na contextualização do README.\n",
    "\n",
    "Nesse contexto, faria sentido pensar em métricas como maximizar o recall (taxa de verdadeiro positivo) dado que o custo de se ter um falso negativo é caro. Mas, também precisa ser levado em consideração que o gasto com um público que é falso positivo é comprometedor para a campanha."
   ]
  },
  {
   "cell_type": "markdown",
   "metadata": {},
   "source": [
    "# Pacotes"
   ]
  },
  {
   "cell_type": "code",
   "execution_count": 16,
   "metadata": {},
   "outputs": [],
   "source": [
    "#!pip install mlflow\n",
    "#!pip install xgboost"
   ]
  },
  {
   "cell_type": "code",
   "execution_count": 1,
   "metadata": {},
   "outputs": [],
   "source": [
    "from deltalake import DeltaTable, write_deltalake\n",
    "import mlflow\n",
    "from mlflow.models import infer_signature\n",
    "import os\n",
    "import pandas as pd\n",
    "\n",
    "from sklearn.ensemble import RandomForestClassifier\n",
    "import xgboost as xgb\n",
    "from sklearn.metrics import f1_score, roc_auc_score, precision_score, recall_score, accuracy_score, average_precision_score, brier_score_loss"
   ]
  },
  {
   "cell_type": "markdown",
   "metadata": {},
   "source": [
    "# Leitura da base v1"
   ]
  },
  {
   "cell_type": "code",
   "execution_count": 2,
   "metadata": {},
   "outputs": [
    {
     "data": {
      "text/html": [
       "<div>\n",
       "<style scoped>\n",
       "    .dataframe tbody tr th:only-of-type {\n",
       "        vertical-align: middle;\n",
       "    }\n",
       "\n",
       "    .dataframe tbody tr th {\n",
       "        vertical-align: top;\n",
       "    }\n",
       "\n",
       "    .dataframe thead th {\n",
       "        text-align: right;\n",
       "    }\n",
       "</style>\n",
       "<table border=\"1\" class=\"dataframe\">\n",
       "  <thead>\n",
       "    <tr style=\"text-align: right;\">\n",
       "      <th></th>\n",
       "      <th>Customer_Age</th>\n",
       "      <th>Dependent_count</th>\n",
       "      <th>Total_Relationship_Count</th>\n",
       "      <th>Months_Inactive_12_mon</th>\n",
       "      <th>Contacts_Count_12_mon</th>\n",
       "      <th>Total_Revolving_Bal</th>\n",
       "      <th>Total_Amt_Chng_Q4_Q1</th>\n",
       "      <th>Total_Ct_Chng_Q4_Q1</th>\n",
       "      <th>vfm</th>\n",
       "      <th>pmcc</th>\n",
       "      <th>...</th>\n",
       "      <th>Income_Category_5. &gt;= 120k</th>\n",
       "      <th>Card_Category_Gold</th>\n",
       "      <th>Card_Category_Platinum</th>\n",
       "      <th>Card_Category_Silver</th>\n",
       "      <th>Education_Level_v2_1.Uneducated</th>\n",
       "      <th>Education_Level_v2_2.High School</th>\n",
       "      <th>Education_Level_v2_3.Graduate</th>\n",
       "      <th>Education_Level_v2_4.Post-Graduate</th>\n",
       "      <th>Attrition_Flag</th>\n",
       "      <th>type</th>\n",
       "    </tr>\n",
       "  </thead>\n",
       "  <tbody>\n",
       "    <tr>\n",
       "      <th>0</th>\n",
       "      <td>-0.784196</td>\n",
       "      <td>0.494019</td>\n",
       "      <td>1.403132</td>\n",
       "      <td>-1.337898</td>\n",
       "      <td>0.498943</td>\n",
       "      <td>0.963894</td>\n",
       "      <td>0.282975</td>\n",
       "      <td>-0.328225</td>\n",
       "      <td>-0.175537</td>\n",
       "      <td>-0.421450</td>\n",
       "      <td>...</td>\n",
       "      <td>0</td>\n",
       "      <td>0</td>\n",
       "      <td>0</td>\n",
       "      <td>0</td>\n",
       "      <td>0</td>\n",
       "      <td>0</td>\n",
       "      <td>1</td>\n",
       "      <td>0</td>\n",
       "      <td>0</td>\n",
       "      <td>Treino</td>\n",
       "    </tr>\n",
       "    <tr>\n",
       "      <th>1</th>\n",
       "      <td>0.720070</td>\n",
       "      <td>0.494019</td>\n",
       "      <td>-0.525933</td>\n",
       "      <td>0.641818</td>\n",
       "      <td>1.408428</td>\n",
       "      <td>-0.165769</td>\n",
       "      <td>-1.527806</td>\n",
       "      <td>-0.194304</td>\n",
       "      <td>-0.208685</td>\n",
       "      <td>-1.054789</td>\n",
       "      <td>...</td>\n",
       "      <td>0</td>\n",
       "      <td>0</td>\n",
       "      <td>0</td>\n",
       "      <td>0</td>\n",
       "      <td>0</td>\n",
       "      <td>0</td>\n",
       "      <td>1</td>\n",
       "      <td>0</td>\n",
       "      <td>0</td>\n",
       "      <td>Treino</td>\n",
       "    </tr>\n",
       "    <tr>\n",
       "      <th>2</th>\n",
       "      <td>1.346848</td>\n",
       "      <td>0.494019</td>\n",
       "      <td>-0.525933</td>\n",
       "      <td>-0.348040</td>\n",
       "      <td>0.498943</td>\n",
       "      <td>0.864865</td>\n",
       "      <td>0.894171</td>\n",
       "      <td>0.056797</td>\n",
       "      <td>-0.571459</td>\n",
       "      <td>-0.686436</td>\n",
       "      <td>...</td>\n",
       "      <td>0</td>\n",
       "      <td>0</td>\n",
       "      <td>0</td>\n",
       "      <td>0</td>\n",
       "      <td>0</td>\n",
       "      <td>0</td>\n",
       "      <td>0</td>\n",
       "      <td>1</td>\n",
       "      <td>0</td>\n",
       "      <td>Treino</td>\n",
       "    </tr>\n",
       "    <tr>\n",
       "      <th>3</th>\n",
       "      <td>0.218648</td>\n",
       "      <td>-0.279306</td>\n",
       "      <td>-0.525933</td>\n",
       "      <td>0.641818</td>\n",
       "      <td>-1.320028</td>\n",
       "      <td>-0.412731</td>\n",
       "      <td>0.369637</td>\n",
       "      <td>0.851953</td>\n",
       "      <td>0.252749</td>\n",
       "      <td>2.406712</td>\n",
       "      <td>...</td>\n",
       "      <td>0</td>\n",
       "      <td>0</td>\n",
       "      <td>0</td>\n",
       "      <td>0</td>\n",
       "      <td>0</td>\n",
       "      <td>0</td>\n",
       "      <td>1</td>\n",
       "      <td>0</td>\n",
       "      <td>0</td>\n",
       "      <td>Treino</td>\n",
       "    </tr>\n",
       "    <tr>\n",
       "      <th>4</th>\n",
       "      <td>-2.539173</td>\n",
       "      <td>-1.825958</td>\n",
       "      <td>0.117089</td>\n",
       "      <td>1.631675</td>\n",
       "      <td>1.408428</td>\n",
       "      <td>-0.858972</td>\n",
       "      <td>0.346832</td>\n",
       "      <td>-1.144306</td>\n",
       "      <td>-0.064053</td>\n",
       "      <td>-0.071911</td>\n",
       "      <td>...</td>\n",
       "      <td>0</td>\n",
       "      <td>0</td>\n",
       "      <td>0</td>\n",
       "      <td>0</td>\n",
       "      <td>1</td>\n",
       "      <td>0</td>\n",
       "      <td>0</td>\n",
       "      <td>0</td>\n",
       "      <td>0</td>\n",
       "      <td>Treino</td>\n",
       "    </tr>\n",
       "  </tbody>\n",
       "</table>\n",
       "<p>5 rows × 28 columns</p>\n",
       "</div>"
      ],
      "text/plain": [
       "   Customer_Age  Dependent_count  Total_Relationship_Count  \\\n",
       "0     -0.784196         0.494019                  1.403132   \n",
       "1      0.720070         0.494019                 -0.525933   \n",
       "2      1.346848         0.494019                 -0.525933   \n",
       "3      0.218648        -0.279306                 -0.525933   \n",
       "4     -2.539173        -1.825958                  0.117089   \n",
       "\n",
       "   Months_Inactive_12_mon  Contacts_Count_12_mon  Total_Revolving_Bal  \\\n",
       "0               -1.337898               0.498943             0.963894   \n",
       "1                0.641818               1.408428            -0.165769   \n",
       "2               -0.348040               0.498943             0.864865   \n",
       "3                0.641818              -1.320028            -0.412731   \n",
       "4                1.631675               1.408428            -0.858972   \n",
       "\n",
       "   Total_Amt_Chng_Q4_Q1  Total_Ct_Chng_Q4_Q1       vfm      pmcc  ...  \\\n",
       "0              0.282975            -0.328225 -0.175537 -0.421450  ...   \n",
       "1             -1.527806            -0.194304 -0.208685 -1.054789  ...   \n",
       "2              0.894171             0.056797 -0.571459 -0.686436  ...   \n",
       "3              0.369637             0.851953  0.252749  2.406712  ...   \n",
       "4              0.346832            -1.144306 -0.064053 -0.071911  ...   \n",
       "\n",
       "   Income_Category_5. >= 120k  Card_Category_Gold  Card_Category_Platinum  \\\n",
       "0                           0                   0                       0   \n",
       "1                           0                   0                       0   \n",
       "2                           0                   0                       0   \n",
       "3                           0                   0                       0   \n",
       "4                           0                   0                       0   \n",
       "\n",
       "   Card_Category_Silver  Education_Level_v2_1.Uneducated  \\\n",
       "0                     0                                0   \n",
       "1                     0                                0   \n",
       "2                     0                                0   \n",
       "3                     0                                0   \n",
       "4                     0                                1   \n",
       "\n",
       "   Education_Level_v2_2.High School  Education_Level_v2_3.Graduate  \\\n",
       "0                                 0                              1   \n",
       "1                                 0                              1   \n",
       "2                                 0                              0   \n",
       "3                                 0                              1   \n",
       "4                                 0                              0   \n",
       "\n",
       "   Education_Level_v2_4.Post-Graduate  Attrition_Flag    type  \n",
       "0                                   0               0  Treino  \n",
       "1                                   0               0  Treino  \n",
       "2                                   1               0  Treino  \n",
       "3                                   0               0  Treino  \n",
       "4                                   0               0  Treino  \n",
       "\n",
       "[5 rows x 28 columns]"
      ]
     },
     "execution_count": 2,
     "metadata": {},
     "output_type": "execute_result"
    }
   ],
   "source": [
    "dados = DeltaTable(\"../1.Variaveis/tmp/dados_pp_v1\").to_pandas()\n",
    "dados.drop(['__index_level_0__'], axis=1, inplace=True)\n",
    "dados.head()"
   ]
  },
  {
   "cell_type": "code",
   "execution_count": 3,
   "metadata": {},
   "outputs": [
    {
     "data": {
      "text/plain": [
       "Customer_Age                          float64\n",
       "Dependent_count                       float64\n",
       "Total_Relationship_Count              float64\n",
       "Months_Inactive_12_mon                float64\n",
       "Contacts_Count_12_mon                 float64\n",
       "Total_Revolving_Bal                   float64\n",
       "Total_Amt_Chng_Q4_Q1                  float64\n",
       "Total_Ct_Chng_Q4_Q1                   float64\n",
       "vfm                                   float64\n",
       "pmcc                                  float64\n",
       "Gender_M                                int32\n",
       "Marital_Status_Married                  int32\n",
       "Marital_Status_Single                   int32\n",
       "Marital_Status_Unknown                  int32\n",
       "Income_Category_1.< 40k                 int32\n",
       "Income_Category_2. >= 40k & < 60k       int32\n",
       "Income_Category_3. >= 60k & < 80k       int32\n",
       "Income_Category_4. >= 80k & < 120k      int32\n",
       "Income_Category_5. >= 120k              int32\n",
       "Card_Category_Gold                      int32\n",
       "Card_Category_Platinum                  int32\n",
       "Card_Category_Silver                    int32\n",
       "Education_Level_v2_1.Uneducated         int32\n",
       "Education_Level_v2_2.High School        int32\n",
       "Education_Level_v2_3.Graduate           int32\n",
       "Education_Level_v2_4.Post-Graduate      int32\n",
       "Attrition_Flag                          int64\n",
       "type                                   object\n",
       "dtype: object"
      ]
     },
     "execution_count": 3,
     "metadata": {},
     "output_type": "execute_result"
    }
   ],
   "source": [
    "dados.dtypes"
   ]
  },
  {
   "cell_type": "markdown",
   "metadata": {},
   "source": [
    "## Separação das bases\n",
    "\n",
    "Se classificássemos toda a base como \"não churn\" ou Attrition_Flag = 0, teríamos a métrica de acurácia em aproximadamente 83%. Utilizaremos esse valor como threshold, além de avaliar outras métricas como recall (TPR), precisão e FPR."
   ]
  },
  {
   "cell_type": "code",
   "execution_count": 3,
   "metadata": {},
   "outputs": [],
   "source": [
    "dados_treino = dados[dados.type == 'Treino'].drop(['type'], axis=1)\n",
    "dados_val = dados[dados.type == 'Validacao'].drop(['type'], axis=1)\n",
    "dados_teste = dados[dados.type == 'Teste'].drop(['type'], axis=1)"
   ]
  },
  {
   "cell_type": "code",
   "execution_count": 4,
   "metadata": {},
   "outputs": [],
   "source": [
    "X_treino = dados_treino.drop(['Attrition_Flag'], axis=1)\n",
    "y_treino = dados_treino['Attrition_Flag']\n",
    "\n",
    "X_val = dados_val.drop(['Attrition_Flag'], axis=1)\n",
    "y_val = dados_val['Attrition_Flag']"
   ]
  },
  {
   "cell_type": "code",
   "execution_count": 9,
   "metadata": {},
   "outputs": [
    {
     "data": {
      "text/plain": [
       "(Attrition_Flag\n",
       " 0    6140\n",
       " 1    1175\n",
       " Name: count, dtype: int64,\n",
       " Attrition_Flag\n",
       " 0    1084\n",
       " 1     208\n",
       " Name: count, dtype: int64,\n",
       " Attrition_Flag\n",
       " 0    1276\n",
       " 1     244\n",
       " Name: count, dtype: int64)"
      ]
     },
     "execution_count": 9,
     "metadata": {},
     "output_type": "execute_result"
    }
   ],
   "source": [
    "# A representatividade absoluta da variável target é baixa nas bases de validação e teste\n",
    "\n",
    "dados_treino['Attrition_Flag'].value_counts(), dados_val['Attrition_Flag'].value_counts(), dados_teste['Attrition_Flag'].value_counts()"
   ]
  },
  {
   "cell_type": "code",
   "execution_count": 11,
   "metadata": {},
   "outputs": [
    {
     "data": {
      "text/plain": [
       "(Attrition_Flag\n",
       " 0    0.839371\n",
       " 1    0.160629\n",
       " Name: count, dtype: float64,\n",
       " Attrition_Flag\n",
       " 0    0.839009\n",
       " 1    0.160991\n",
       " Name: count, dtype: float64,\n",
       " Attrition_Flag\n",
       " 0    0.839474\n",
       " 1    0.160526\n",
       " Name: count, dtype: float64)"
      ]
     },
     "execution_count": 11,
     "metadata": {},
     "output_type": "execute_result"
    }
   ],
   "source": [
    "dados_treino['Attrition_Flag'].value_counts()/dados_treino.shape[0], dados_val['Attrition_Flag'].value_counts()/dados_val.shape[0], dados_teste['Attrition_Flag'].value_counts()/dados_teste.shape[0]"
   ]
  },
  {
   "cell_type": "markdown",
   "metadata": {},
   "source": [
    "# Modelos baselines \n",
    "\n",
    "Por hora, aplicaremos alguns modelos sem a tunagem dos hiperparâmetros e avaliaremos o desempenho na base de validação."
   ]
  },
  {
   "cell_type": "markdown",
   "metadata": {},
   "source": [
    "## Cria experimento"
   ]
  },
  {
   "cell_type": "code",
   "execution_count": 6,
   "metadata": {},
   "outputs": [],
   "source": [
    "experiment = mlflow.create_experiment(name = 'Modelos_Baselines',\n",
    "                                      artifact_location = 'Artf_Modelos_Baselies',\n",
    "                                      tags = {'Environment': 'Development', 'Version': '1.0.0'}\n",
    "                                      )"
   ]
  },
  {
   "cell_type": "code",
   "execution_count": 7,
   "metadata": {},
   "outputs": [
    {
     "data": {
      "text/plain": [
       "'215021480169490868'"
      ]
     },
     "execution_count": 7,
     "metadata": {},
     "output_type": "execute_result"
    }
   ],
   "source": [
    "experiment"
   ]
  },
  {
   "cell_type": "code",
   "execution_count": 5,
   "metadata": {},
   "outputs": [],
   "source": [
    "experiment = mlflow.set_experiment(experiment_id='215021480169490868')"
   ]
  },
  {
   "cell_type": "code",
   "execution_count": 6,
   "metadata": {},
   "outputs": [
    {
     "data": {
      "text/plain": [
       "'215021480169490868'"
      ]
     },
     "execution_count": 6,
     "metadata": {},
     "output_type": "execute_result"
    }
   ],
   "source": [
    "experiment.experiment_id"
   ]
  },
  {
   "cell_type": "markdown",
   "metadata": {},
   "source": [
    "## Random forest"
   ]
  },
  {
   "cell_type": "code",
   "execution_count": 13,
   "metadata": {},
   "outputs": [
    {
     "name": "stderr",
     "output_type": "stream",
     "text": [
      "/home/hugo/Documents/Git_GitHub/Estudo_Cartao_Credito/vCartao_Credito/lib/python3.12/site-packages/mlflow/types/utils.py:435: UserWarning: Hint: Inferred schema contains integer column(s). Integer columns in Python cannot represent missing values. If your input data contains missing values at inference time, it will be encoded as floats and will cause a schema enforcement error. The best way to avoid this problem is to infer the model schema based on a realistic data sample (training dataset) that includes missing values. Alternatively, you can declare integer columns as doubles (float64) whenever these columns may have missing values. See `Handling Integers With Missing Values <https://www.mlflow.org/docs/latest/models.html#handling-integers-with-missing-values>`_ for more details.\n",
      "  warnings.warn(\n"
     ]
    }
   ],
   "source": [
    "if __name__ == '__main__':\n",
    "    \n",
    "    with mlflow.start_run(run_name = 'Baseline_RF', experiment_id = experiment.experiment_id) as run:\n",
    "\n",
    "        rf = RandomForestClassifier()\n",
    "        rf.fit(X_treino, y_treino)\n",
    "\n",
    "        # Log dos parâmetros do modelo\n",
    "        mlflow.log_params(rf.get_params())\n",
    "\n",
    "        # Log das métricas na base de TREINO\n",
    "        mlflow.log_metric('AUC_PR_Treino', average_precision_score(y_treino, rf.predict_proba(X_treino)[:,1]))\n",
    "        mlflow.log_metric('AUC_ROC_Treino', roc_auc_score(y_treino, rf.predict_proba(X_treino)[:,1]))\n",
    "        mlflow.log_metric('BS_Treino', brier_score_loss(y_treino, rf.predict_proba(X_treino)[:,1]))\n",
    "\n",
    "            # OBS: o ponto de corte utilizado é o 0.5 (ainda não otimizamos esse ponto)\n",
    "        mlflow.log_metric('F1_Treino', f1_score(y_treino, rf.predict(X_treino)))\n",
    "        mlflow.log_metric('Precision_Treino', precision_score(y_treino, rf.predict(X_treino)))\n",
    "        mlflow.log_metric('Precision_Treino', recall_score(y_treino, rf.predict(X_treino)))\n",
    "        mlflow.log_metric('Precision_Treino', accuracy_score(y_treino, rf.predict(X_treino)))\n",
    "\n",
    "        # Log das métricas na base de VALIDAÇÃO\n",
    "        mlflow.log_metric('AUC_PR_Val', average_precision_score(y_val, rf.predict_proba(X_val)[:,1]))\n",
    "        mlflow.log_metric('AUC_ROC_Val', roc_auc_score(y_val, rf.predict_proba(X_val)[:,1]))\n",
    "        mlflow.log_metric('BS_Val', brier_score_loss(y_val, rf.predict_proba(X_val)[:,1]))\n",
    "\n",
    "                    # OBS: o ponto de corte utilizado é o 0.5 (ainda não otimizamos esse ponto)\n",
    "        mlflow.log_metric('F1_Val', f1_score(y_val, rf.predict(X_val)))\n",
    "        mlflow.log_metric('Precision_Val', precision_score(y_val, rf.predict(X_val)))\n",
    "        mlflow.log_metric('Precision_Val', recall_score(y_val, rf.predict(X_val)))\n",
    "        mlflow.log_metric('Precision_Val', accuracy_score(y_val, rf.predict(X_val)))\n",
    "        \n",
    "        # Log do schema das variáveis do modelo e do modelo\n",
    "        signature = infer_signature(X_treino, rf.predict_proba(X_treino))\n",
    "        mlflow.sklearn.log_model(rf, signature=signature, artifact_path='modelo')"
   ]
  }
 ],
 "metadata": {
  "kernelspec": {
   "display_name": "vCartao_Credito",
   "language": "python",
   "name": "python3"
  },
  "language_info": {
   "codemirror_mode": {
    "name": "ipython",
    "version": 3
   },
   "file_extension": ".py",
   "mimetype": "text/x-python",
   "name": "python",
   "nbconvert_exporter": "python",
   "pygments_lexer": "ipython3",
   "version": "3.12.3"
  }
 },
 "nbformat": 4,
 "nbformat_minor": 2
}
