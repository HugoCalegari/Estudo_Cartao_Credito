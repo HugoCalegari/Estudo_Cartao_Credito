{
 "cells": [
  {
   "cell_type": "markdown",
   "metadata": {},
   "source": [
    "# Objetivo\n",
    "\n",
    "Realizar o pré-processamento das bases de treino, validação e teste."
   ]
  },
  {
   "cell_type": "markdown",
   "metadata": {},
   "source": [
    "# Pacotes"
   ]
  },
  {
   "cell_type": "code",
   "execution_count": 1,
   "metadata": {},
   "outputs": [],
   "source": [
    "from deltalake import DeltaTable, write_deltalake\n",
    "import pandas as pd\n",
    "import numpy as np\n",
    "\n",
    "import Funcoes"
   ]
  },
  {
   "cell_type": "markdown",
   "metadata": {},
   "source": [
    "# Leitura da base de dados\n",
    "\n",
    "Desconsideraremos algumas variáveis analisadas na exploração inicial: Education_Level_v2, Education_Level, CLIENTNUM."
   ]
  },
  {
   "cell_type": "code",
   "execution_count": 2,
   "metadata": {},
   "outputs": [
    {
     "data": {
      "text/html": [
       "<div>\n",
       "<style scoped>\n",
       "    .dataframe tbody tr th:only-of-type {\n",
       "        vertical-align: middle;\n",
       "    }\n",
       "\n",
       "    .dataframe tbody tr th {\n",
       "        vertical-align: top;\n",
       "    }\n",
       "\n",
       "    .dataframe thead th {\n",
       "        text-align: right;\n",
       "    }\n",
       "</style>\n",
       "<table border=\"1\" class=\"dataframe\">\n",
       "  <thead>\n",
       "    <tr style=\"text-align: right;\">\n",
       "      <th></th>\n",
       "      <th>Customer_Age</th>\n",
       "      <th>Gender</th>\n",
       "      <th>Dependent_count</th>\n",
       "      <th>Marital_Status</th>\n",
       "      <th>Income_Category</th>\n",
       "      <th>Card_Category</th>\n",
       "      <th>Months_on_book</th>\n",
       "      <th>Total_Relationship_Count</th>\n",
       "      <th>Months_Inactive_12_mon</th>\n",
       "      <th>Contacts_Count_12_mon</th>\n",
       "      <th>...</th>\n",
       "      <th>Total_Amt_Chng_Q4_Q1</th>\n",
       "      <th>Total_Trans_Amt</th>\n",
       "      <th>Total_Trans_Ct</th>\n",
       "      <th>Total_Ct_Chng_Q4_Q1</th>\n",
       "      <th>Avg_Utilization_Ratio</th>\n",
       "      <th>Education_Level_v1</th>\n",
       "      <th>vfm</th>\n",
       "      <th>pmcc</th>\n",
       "      <th>Attrition_Flag</th>\n",
       "      <th>type</th>\n",
       "    </tr>\n",
       "  </thead>\n",
       "  <tbody>\n",
       "    <tr>\n",
       "      <th>0</th>\n",
       "      <td>40</td>\n",
       "      <td>F</td>\n",
       "      <td>3</td>\n",
       "      <td>Married</td>\n",
       "      <td>1.&lt; 40k</td>\n",
       "      <td>Blue</td>\n",
       "      <td>36</td>\n",
       "      <td>6</td>\n",
       "      <td>1</td>\n",
       "      <td>3</td>\n",
       "      <td>...</td>\n",
       "      <td>0.823</td>\n",
       "      <td>4926</td>\n",
       "      <td>85</td>\n",
       "      <td>0.635</td>\n",
       "      <td>0.256</td>\n",
       "      <td>4.Graduate</td>\n",
       "      <td>57.952941</td>\n",
       "      <td>0.054141</td>\n",
       "      <td>Existing Customer</td>\n",
       "      <td>Treino</td>\n",
       "    </tr>\n",
       "    <tr>\n",
       "      <th>1</th>\n",
       "      <td>52</td>\n",
       "      <td>M</td>\n",
       "      <td>3</td>\n",
       "      <td>Married</td>\n",
       "      <td>4. &gt;= 80k &amp; &lt; 120k</td>\n",
       "      <td>Blue</td>\n",
       "      <td>33</td>\n",
       "      <td>3</td>\n",
       "      <td>3</td>\n",
       "      <td>4</td>\n",
       "      <td>...</td>\n",
       "      <td>0.426</td>\n",
       "      <td>1427</td>\n",
       "      <td>25</td>\n",
       "      <td>0.667</td>\n",
       "      <td>0.037</td>\n",
       "      <td>3.College</td>\n",
       "      <td>57.080000</td>\n",
       "      <td>0.004285</td>\n",
       "      <td>Existing Customer</td>\n",
       "      <td>Treino</td>\n",
       "    </tr>\n",
       "    <tr>\n",
       "      <th>2</th>\n",
       "      <td>57</td>\n",
       "      <td>M</td>\n",
       "      <td>3</td>\n",
       "      <td>Married</td>\n",
       "      <td>4. &gt;= 80k &amp; &lt; 120k</td>\n",
       "      <td>Blue</td>\n",
       "      <td>50</td>\n",
       "      <td>3</td>\n",
       "      <td>2</td>\n",
       "      <td>3</td>\n",
       "      <td>...</td>\n",
       "      <td>0.957</td>\n",
       "      <td>1806</td>\n",
       "      <td>38</td>\n",
       "      <td>0.727</td>\n",
       "      <td>0.412</td>\n",
       "      <td>6.Doctorate</td>\n",
       "      <td>47.526316</td>\n",
       "      <td>0.033282</td>\n",
       "      <td>Existing Customer</td>\n",
       "      <td>Treino</td>\n",
       "    </tr>\n",
       "    <tr>\n",
       "      <th>3</th>\n",
       "      <td>48</td>\n",
       "      <td>F</td>\n",
       "      <td>2</td>\n",
       "      <td>Single</td>\n",
       "      <td>1.&lt; 40k</td>\n",
       "      <td>Blue</td>\n",
       "      <td>35</td>\n",
       "      <td>3</td>\n",
       "      <td>3</td>\n",
       "      <td>1</td>\n",
       "      <td>...</td>\n",
       "      <td>0.842</td>\n",
       "      <td>4777</td>\n",
       "      <td>69</td>\n",
       "      <td>0.917</td>\n",
       "      <td>0.567</td>\n",
       "      <td>3.College</td>\n",
       "      <td>69.231884</td>\n",
       "      <td>0.276774</td>\n",
       "      <td>Existing Customer</td>\n",
       "      <td>Treino</td>\n",
       "    </tr>\n",
       "    <tr>\n",
       "      <th>4</th>\n",
       "      <td>26</td>\n",
       "      <td>M</td>\n",
       "      <td>0</td>\n",
       "      <td>Single</td>\n",
       "      <td>1.&lt; 40k</td>\n",
       "      <td>Blue</td>\n",
       "      <td>13</td>\n",
       "      <td>4</td>\n",
       "      <td>4</td>\n",
       "      <td>4</td>\n",
       "      <td>...</td>\n",
       "      <td>0.837</td>\n",
       "      <td>2192</td>\n",
       "      <td>36</td>\n",
       "      <td>0.440</td>\n",
       "      <td>0.202</td>\n",
       "      <td>1.Uneducated</td>\n",
       "      <td>60.888889</td>\n",
       "      <td>0.081657</td>\n",
       "      <td>Existing Customer</td>\n",
       "      <td>Treino</td>\n",
       "    </tr>\n",
       "  </tbody>\n",
       "</table>\n",
       "<p>5 rows × 23 columns</p>\n",
       "</div>"
      ],
      "text/plain": [
       "   Customer_Age Gender  Dependent_count Marital_Status     Income_Category  \\\n",
       "0            40      F                3        Married             1.< 40k   \n",
       "1            52      M                3        Married  4. >= 80k & < 120k   \n",
       "2            57      M                3        Married  4. >= 80k & < 120k   \n",
       "3            48      F                2         Single             1.< 40k   \n",
       "4            26      M                0         Single             1.< 40k   \n",
       "\n",
       "  Card_Category  Months_on_book  Total_Relationship_Count  \\\n",
       "0          Blue              36                         6   \n",
       "1          Blue              33                         3   \n",
       "2          Blue              50                         3   \n",
       "3          Blue              35                         3   \n",
       "4          Blue              13                         4   \n",
       "\n",
       "   Months_Inactive_12_mon  Contacts_Count_12_mon  ...  Total_Amt_Chng_Q4_Q1  \\\n",
       "0                       1                      3  ...                 0.823   \n",
       "1                       3                      4  ...                 0.426   \n",
       "2                       2                      3  ...                 0.957   \n",
       "3                       3                      1  ...                 0.842   \n",
       "4                       4                      4  ...                 0.837   \n",
       "\n",
       "   Total_Trans_Amt  Total_Trans_Ct  Total_Ct_Chng_Q4_Q1  \\\n",
       "0             4926              85                0.635   \n",
       "1             1427              25                0.667   \n",
       "2             1806              38                0.727   \n",
       "3             4777              69                0.917   \n",
       "4             2192              36                0.440   \n",
       "\n",
       "   Avg_Utilization_Ratio  Education_Level_v1        vfm      pmcc  \\\n",
       "0                  0.256          4.Graduate  57.952941  0.054141   \n",
       "1                  0.037           3.College  57.080000  0.004285   \n",
       "2                  0.412         6.Doctorate  47.526316  0.033282   \n",
       "3                  0.567           3.College  69.231884  0.276774   \n",
       "4                  0.202        1.Uneducated  60.888889  0.081657   \n",
       "\n",
       "      Attrition_Flag    type  \n",
       "0  Existing Customer  Treino  \n",
       "1  Existing Customer  Treino  \n",
       "2  Existing Customer  Treino  \n",
       "3  Existing Customer  Treino  \n",
       "4  Existing Customer  Treino  \n",
       "\n",
       "[5 rows x 23 columns]"
      ]
     },
     "execution_count": 2,
     "metadata": {},
     "output_type": "execute_result"
    }
   ],
   "source": [
    "dados = DeltaTable(\"../0.Base/tmp/dados_segmentados\").to_pandas()\n",
    "dados.drop(['__index_level_0__', 'CLIENTNUM', 'Education_Level_v2', 'Education_Level'], axis=1, inplace=True)\n",
    "dados.head()"
   ]
  },
  {
   "cell_type": "code",
   "execution_count": 3,
   "metadata": {},
   "outputs": [
    {
     "data": {
      "text/plain": [
       "Attrition_Flag\n",
       "0    8500\n",
       "1    1627\n",
       "Name: count, dtype: int64"
      ]
     },
     "execution_count": 3,
     "metadata": {},
     "output_type": "execute_result"
    }
   ],
   "source": [
    "# Mapeia a variável target para categórica numérica\n",
    "\n",
    "lista_target = {\n",
    "    'Existing Customer': 0,\n",
    "    'Attrited Customer': 1\n",
    "}\n",
    "\n",
    "dados['Attrition_Flag'] = dados['Attrition_Flag'].map(lista_target)\n",
    "dados['Attrition_Flag'].value_counts()"
   ]
  },
  {
   "cell_type": "code",
   "execution_count": null,
   "metadata": {},
   "outputs": [
    {
     "data": {
      "text/plain": [
       "Customer_Age                0\n",
       "Gender                      0\n",
       "Dependent_count             0\n",
       "Education_Level             0\n",
       "Marital_Status              0\n",
       "Income_Category             0\n",
       "Card_Category               0\n",
       "Months_on_book              0\n",
       "Total_Relationship_Count    0\n",
       "Months_Inactive_12_mon      0\n",
       "Contacts_Count_12_mon       0\n",
       "Credit_Limit                0\n",
       "Total_Revolving_Bal         0\n",
       "Avg_Open_To_Buy             0\n",
       "Total_Amt_Chng_Q4_Q1        0\n",
       "Total_Trans_Amt             0\n",
       "Total_Trans_Ct              0\n",
       "Total_Ct_Chng_Q4_Q1         0\n",
       "Avg_Utilization_Ratio       0\n",
       "Education_Level_v1          0\n",
       "Education_Level_v2          0\n",
       "vfm                         0\n",
       "pmcc                        0\n",
       "Attrition_Flag              0\n",
       "type                        0\n",
       "dtype: int64"
      ]
     },
     "execution_count": 11,
     "metadata": {},
     "output_type": "execute_result"
    }
   ],
   "source": [
    "# Verificação de algum dado nulo\n",
    "\n",
    "dados.isnull().sum()"
   ]
  },
  {
   "cell_type": "code",
   "execution_count": 21,
   "metadata": {},
   "outputs": [
    {
     "data": {
      "text/plain": [
       "Index(['Customer_Age', 'Gender', 'Dependent_count', 'Marital_Status',\n",
       "       'Income_Category', 'Card_Category', 'Months_on_book',\n",
       "       'Total_Relationship_Count', 'Months_Inactive_12_mon',\n",
       "       'Contacts_Count_12_mon', 'Credit_Limit', 'Total_Revolving_Bal',\n",
       "       'Avg_Open_To_Buy', 'Total_Amt_Chng_Q4_Q1', 'Total_Trans_Amt',\n",
       "       'Total_Trans_Ct', 'Total_Ct_Chng_Q4_Q1', 'Avg_Utilization_Ratio',\n",
       "       'Education_Level_v1', 'vfm', 'pmcc', 'Attrition_Flag', 'type'],\n",
       "      dtype='object')"
      ]
     },
     "execution_count": 21,
     "metadata": {},
     "output_type": "execute_result"
    }
   ],
   "source": [
    "dados.columns"
   ]
  },
  {
   "cell_type": "code",
   "execution_count": 22,
   "metadata": {},
   "outputs": [
    {
     "data": {
      "text/plain": [
       "Customer_Age                  int64\n",
       "Gender                       object\n",
       "Dependent_count               int64\n",
       "Marital_Status               object\n",
       "Income_Category              object\n",
       "Card_Category                object\n",
       "Months_on_book                int64\n",
       "Total_Relationship_Count      int64\n",
       "Months_Inactive_12_mon        int64\n",
       "Contacts_Count_12_mon         int64\n",
       "Credit_Limit                float64\n",
       "Total_Revolving_Bal           int64\n",
       "Avg_Open_To_Buy             float64\n",
       "Total_Amt_Chng_Q4_Q1        float64\n",
       "Total_Trans_Amt               int64\n",
       "Total_Trans_Ct                int64\n",
       "Total_Ct_Chng_Q4_Q1         float64\n",
       "Avg_Utilization_Ratio       float64\n",
       "Education_Level_v1           object\n",
       "vfm                         float64\n",
       "pmcc                        float64\n",
       "Attrition_Flag                int64\n",
       "type                         object\n",
       "dtype: object"
      ]
     },
     "execution_count": 22,
     "metadata": {},
     "output_type": "execute_result"
    }
   ],
   "source": [
    "dados.dtypes"
   ]
  },
  {
   "cell_type": "markdown",
   "metadata": {},
   "source": [
    "## Filtro das bases"
   ]
  },
  {
   "cell_type": "code",
   "execution_count": 4,
   "metadata": {},
   "outputs": [],
   "source": [
    "dados_treino = dados[dados.type == 'Treino']\n",
    "dados_val = dados[dados.type == 'Validacao']\n",
    "dados_teste = dados[dados.type == 'Teste']"
   ]
  },
  {
   "cell_type": "markdown",
   "metadata": {},
   "source": [
    "# Base de treino"
   ]
  },
  {
   "cell_type": "markdown",
   "metadata": {},
   "source": [
    "## Variáveis numéricas correlacionadas\n",
    "\n",
    "As variáveis categóricas numéricas não foram consideradas nessa avaliação. Abaixo aparecem as variáveis com relação monotônica (spearman) com valores acima do limiar de 0.6. Grafica e numericamente, foi possível notar as relações na Exploracao_Inicial.\n",
    "\n",
    "Variáveis a serem consideradas: Customer_Age, pmcc, Total_Revolving_Bal e vfm"
   ]
  },
  {
   "cell_type": "code",
   "execution_count": 7,
   "metadata": {},
   "outputs": [
    {
     "data": {
      "text/html": [
       "<div>\n",
       "<style scoped>\n",
       "    .dataframe tbody tr th:only-of-type {\n",
       "        vertical-align: middle;\n",
       "    }\n",
       "\n",
       "    .dataframe tbody tr th {\n",
       "        vertical-align: top;\n",
       "    }\n",
       "\n",
       "    .dataframe thead th {\n",
       "        text-align: right;\n",
       "    }\n",
       "</style>\n",
       "<table border=\"1\" class=\"dataframe\">\n",
       "  <thead>\n",
       "    <tr style=\"text-align: right;\">\n",
       "      <th></th>\n",
       "      <th>Var1</th>\n",
       "      <th>Var2</th>\n",
       "      <th>Valores</th>\n",
       "    </tr>\n",
       "  </thead>\n",
       "  <tbody>\n",
       "    <tr>\n",
       "      <th>0</th>\n",
       "      <td>Customer_Age</td>\n",
       "      <td>Months_on_book</td>\n",
       "      <td>0.767328</td>\n",
       "    </tr>\n",
       "    <tr>\n",
       "      <th>1</th>\n",
       "      <td>Credit_Limit</td>\n",
       "      <td>Avg_Open_To_Buy</td>\n",
       "      <td>0.931240</td>\n",
       "    </tr>\n",
       "    <tr>\n",
       "      <th>2</th>\n",
       "      <td>Credit_Limit</td>\n",
       "      <td>pmcc</td>\n",
       "      <td>-0.793641</td>\n",
       "    </tr>\n",
       "    <tr>\n",
       "      <th>3</th>\n",
       "      <td>Total_Revolving_Bal</td>\n",
       "      <td>Avg_Utilization_Ratio</td>\n",
       "      <td>0.713146</td>\n",
       "    </tr>\n",
       "    <tr>\n",
       "      <th>4</th>\n",
       "      <td>Avg_Open_To_Buy</td>\n",
       "      <td>Avg_Utilization_Ratio</td>\n",
       "      <td>-0.679496</td>\n",
       "    </tr>\n",
       "    <tr>\n",
       "      <th>5</th>\n",
       "      <td>Avg_Open_To_Buy</td>\n",
       "      <td>pmcc</td>\n",
       "      <td>-0.747020</td>\n",
       "    </tr>\n",
       "    <tr>\n",
       "      <th>6</th>\n",
       "      <td>Total_Trans_Amt</td>\n",
       "      <td>Total_Trans_Ct</td>\n",
       "      <td>0.880932</td>\n",
       "    </tr>\n",
       "    <tr>\n",
       "      <th>7</th>\n",
       "      <td>Total_Trans_Amt</td>\n",
       "      <td>vfm</td>\n",
       "      <td>0.773730</td>\n",
       "    </tr>\n",
       "  </tbody>\n",
       "</table>\n",
       "</div>"
      ],
      "text/plain": [
       "                  Var1                   Var2   Valores\n",
       "0         Customer_Age         Months_on_book  0.767328\n",
       "1         Credit_Limit        Avg_Open_To_Buy  0.931240\n",
       "2         Credit_Limit                   pmcc -0.793641\n",
       "3  Total_Revolving_Bal  Avg_Utilization_Ratio  0.713146\n",
       "4      Avg_Open_To_Buy  Avg_Utilization_Ratio -0.679496\n",
       "5      Avg_Open_To_Buy                   pmcc -0.747020\n",
       "6      Total_Trans_Amt         Total_Trans_Ct  0.880932\n",
       "7      Total_Trans_Amt                    vfm  0.773730"
      ]
     },
     "execution_count": 7,
     "metadata": {},
     "output_type": "execute_result"
    }
   ],
   "source": [
    "vars_numericas = ['Customer_Age', 'Months_on_book', 'Credit_Limit', 'Total_Revolving_Bal', 'Avg_Open_To_Buy', \n",
    "                  'Total_Amt_Chng_Q4_Q1', 'Total_Trans_Amt', 'Total_Trans_Ct', 'Total_Ct_Chng_Q4_Q1', 'Avg_Utilization_Ratio', 'vfm', 'pmcc']\n",
    "Funcoes.Vars_Correl(dados_treino, vars_numericas, limiar=0.6)"
   ]
  },
  {
   "cell_type": "markdown",
   "metadata": {},
   "source": [
    "## Avaliação do IV"
   ]
  },
  {
   "cell_type": "markdown",
   "metadata": {},
   "source": [
    "### Categorização das variáveis numéricas"
   ]
  },
  {
   "cell_type": "code",
   "execution_count": null,
   "metadata": {},
   "outputs": [
    {
     "ename": "NameError",
     "evalue": "name 'Categorizacao' is not defined",
     "output_type": "error",
     "traceback": [
      "\u001b[0;31m---------------------------------------------------------------------------\u001b[0m",
      "\u001b[0;31mNameError\u001b[0m                                 Traceback (most recent call last)",
      "Cell \u001b[0;32mIn[6], line 1\u001b[0m\n\u001b[0;32m----> 1\u001b[0m categorias_idade \u001b[38;5;241m=\u001b[39m \u001b[43mCategorizacao\u001b[49m(dados_treino, \u001b[38;5;241m5\u001b[39m, \u001b[38;5;124m'\u001b[39m\u001b[38;5;124mCustomer_Age\u001b[39m\u001b[38;5;124m'\u001b[39m)\n",
      "\u001b[0;31mNameError\u001b[0m: name 'Categorizacao' is not defined"
     ]
    }
   ],
   "source": [
    "categorias_idade = Funcoes.Categorizacao(dados_treino, 5, 'Customer_Age')"
   ]
  },
  {
   "cell_type": "code",
   "execution_count": 92,
   "metadata": {},
   "outputs": [
    {
     "data": {
      "text/plain": [
       "array([Interval(25.999, 39.0, closed='right'),\n",
       "       Interval(39.0, 44.0, closed='right'),\n",
       "       Interval(44.0, 48.0, closed='right'),\n",
       "       Interval(48.0, 53.0, closed='right'),\n",
       "       Interval(53.0, 73.0, closed='right')], dtype=object)"
      ]
     },
     "execution_count": 92,
     "metadata": {},
     "output_type": "execute_result"
    }
   ],
   "source": [
    "np.sort(Categorizacao(dados_treino, 5, 'Customer_Age').unique())"
   ]
  },
  {
   "cell_type": "code",
   "execution_count": 93,
   "metadata": {},
   "outputs": [
    {
     "data": {
      "text/plain": [
       "7315      (53.0, 73.0]\n",
       "7316    (25.999, 39.0]\n",
       "7317      (44.0, 48.0]\n",
       "7318      (48.0, 53.0]\n",
       "7319      (53.0, 73.0]\n",
       "             ...      \n",
       "8602      (48.0, 53.0]\n",
       "8603      (53.0, 73.0]\n",
       "8604      (44.0, 48.0]\n",
       "8605      (39.0, 44.0]\n",
       "8606      (39.0, 44.0]\n",
       "Name: Customer_Age, Length: 1292, dtype: category\n",
       "Categories (5, interval[float64, right]): [(25.999, 39.0] < (39.0, 44.0] < (44.0, 48.0] < (48.0, 53.0] < (53.0, 73.0]]"
      ]
     },
     "execution_count": 93,
     "metadata": {},
     "output_type": "execute_result"
    }
   ],
   "source": [
    "pd.cut(dados_val['Customer_Age'], bins = np.sort(Categorizacao(dados_treino, 5, 'Customer_Age').unique()), include_lowest=True)"
   ]
  }
 ],
 "metadata": {
  "kernelspec": {
   "display_name": "vCartao_Credito",
   "language": "python",
   "name": "python3"
  },
  "language_info": {
   "codemirror_mode": {
    "name": "ipython",
    "version": 3
   },
   "file_extension": ".py",
   "mimetype": "text/x-python",
   "name": "python",
   "nbconvert_exporter": "python",
   "pygments_lexer": "ipython3",
   "version": "3.12.3"
  }
 },
 "nbformat": 4,
 "nbformat_minor": 2
}
